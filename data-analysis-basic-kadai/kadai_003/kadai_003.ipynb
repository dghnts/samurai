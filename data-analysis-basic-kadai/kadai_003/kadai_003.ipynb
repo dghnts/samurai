{
  "nbformat": 4,
  "nbformat_minor": 0,
  "metadata": {
    "colab": {
      "provenance": []
    },
    "kernelspec": {
      "name": "python3",
      "display_name": "Python 3"
    },
    "language_info": {
      "name": "python"
    }
  },
  "cells": [
    {
      "cell_type": "code",
      "execution_count": 4,
      "metadata": {
        "colab": {
          "base_uri": "https://localhost:8080/"
        },
        "id": "5sqvqJDsn2PX",
        "outputId": "99647ae3-85d7-405f-d34b-f529a6fa1545"
      },
      "outputs": [
        {
          "output_type": "stream",
          "name": "stdout",
          "text": [
            "47\n"
          ]
        }
      ],
      "source": [
        "import numpy as np\n",
        "A = [[0,1],[2,3],[4,5]]\n",
        "B = [[0,1,2,3],[4,5,6,7]]\n",
        "\n",
        "product_A_B = np.dot(A,B)\n",
        "\n",
        "print(product_A_B.max())"
      ]
    }
  ]
}